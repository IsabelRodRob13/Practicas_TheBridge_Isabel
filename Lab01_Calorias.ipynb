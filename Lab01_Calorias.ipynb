{
  "nbformat": 4,
  "nbformat_minor": 0,
  "metadata": {
    "colab": {
      "name": "Lab01_Calorias.ipynb",
      "provenance": [],
      "collapsed_sections": [],
      "authorship_tag": "ABX9TyNQhszRRDFuIZlnlLEQ9s/D",
      "include_colab_link": true
    },
    "kernelspec": {
      "name": "python3",
      "display_name": "Python 3"
    },
    "language_info": {
      "name": "python"
    }
  },
  "cells": [
    {
      "cell_type": "markdown",
      "metadata": {
        "id": "view-in-github",
        "colab_type": "text"
      },
      "source": [
        "<a href=\"https://colab.research.google.com/github/IsabelRodRob13/Practicas_TheBridge_Isabel/blob/main/Lab01_Calorias.ipynb\" target=\"_parent\"><img src=\"https://colab.research.google.com/assets/colab-badge.svg\" alt=\"Open In Colab\"/></a>"
      ]
    },
    {
      "cell_type": "code",
      "metadata": {
        "id": "WQmVzwyleHwv"
      },
      "source": [
        ""
      ],
      "execution_count": null,
      "outputs": []
    },
    {
      "cell_type": "markdown",
      "metadata": {
        "id": "kJKZiKtBeTBP"
      },
      "source": [
        "#Python Intro 010\n",
        "## Lab 1- Que va a crear\n",
        "\n",
        "En este desafío, creará un contador de calorías que solicita al usuario lo siguiente:\n",
        "- la fecha actual en cualquier formato.\n",
        "- Calorias ingeridas en el desayuno\n",
        "- Calorias ingeridas en la comida\n",
        "- Calorias ingeridas en la cena\n",
        "- Calorias ingeridas en tentempiés\n",
        "\n",
        "Después el programa sumará todas las calorías y les dará formato de mensaje.\n",
        "\n"
      ]
    },
    {
      "cell_type": "code",
      "metadata": {
        "colab": {
          "base_uri": "https://localhost:8080/"
        },
        "id": "5hoKvaOUq9EO",
        "outputId": "ecbfbd85-a184-4f25-a08e-f255689a9f40"
      },
      "source": [
        "# Introducimos fecha actual\n",
        "print( \"¿que día es hoy?\")"
      ],
      "execution_count": null,
      "outputs": [
        {
          "output_type": "stream",
          "text": [
            "¿que día es hoy?\n"
          ],
          "name": "stdout"
        }
      ]
    },
    {
      "cell_type": "code",
      "metadata": {
        "colab": {
          "base_uri": "https://localhost:8080/"
        },
        "id": "0667_owWreIk",
        "outputId": "e5cd469c-4a5d-49b0-dba2-b3dbaeaffdb6"
      },
      "source": [
        "# Introducir manualmente la fecha actual\n",
        "date = input ()\n"
      ],
      "execution_count": null,
      "outputs": [
        {
          "output_type": "stream",
          "text": [
            " 20 de mayo 2021\n"
          ],
          "name": "stdout"
        }
      ]
    },
    {
      "cell_type": "code",
      "metadata": {
        "colab": {
          "base_uri": "https://localhost:8080/",
          "height": 35
        },
        "id": "o5Edr6KVrz32",
        "outputId": "05f64003-f1f2-4be4-d943-7a60a099004a"
      },
      "source": [
        "date"
      ],
      "execution_count": null,
      "outputs": [
        {
          "output_type": "execute_result",
          "data": {
            "application/vnd.google.colaboratory.intrinsic+json": {
              "type": "string"
            },
            "text/plain": [
              "' 20 de mayo 2021'"
            ]
          },
          "metadata": {
            "tags": []
          },
          "execution_count": 4
        }
      ]
    },
    {
      "cell_type": "code",
      "metadata": {
        "colab": {
          "base_uri": "https://localhost:8080/"
        },
        "id": "X_LujML5r5l1",
        "outputId": "f42b4395-1bc5-4c7f-9b3d-8292d35dc35f"
      },
      "source": [
        "#Introducir calorias ingeridas en el desayuno\n",
        "breakfast = int(input( \"Introduce las calorias del desayuno: \"))\n"
      ],
      "execution_count": null,
      "outputs": [
        {
          "output_type": "stream",
          "text": [
            "Introduce las calorias del desayuno: 23\n"
          ],
          "name": "stdout"
        }
      ]
    },
    {
      "cell_type": "code",
      "metadata": {
        "colab": {
          "base_uri": "https://localhost:8080/"
        },
        "id": "-7lvYk-PwS0V",
        "outputId": "83b532a7-7ba1-4e4f-8455-87cc59e30ef7"
      },
      "source": [
        "#Introducir calorias ingeridas en el almuerzo\n",
        "lunch = int(input( \"Introduce las calorias del almuerzo: \"))"
      ],
      "execution_count": null,
      "outputs": [
        {
          "output_type": "stream",
          "text": [
            "Introduce las calorias del almuerzo: 50\n"
          ],
          "name": "stdout"
        }
      ]
    },
    {
      "cell_type": "code",
      "metadata": {
        "colab": {
          "base_uri": "https://localhost:8080/"
        },
        "id": "IxwBNvDxweBQ",
        "outputId": "19de307e-5453-42a4-e034-cd92b479d33c"
      },
      "source": [
        "#Introducir calorias ingeridas en la cena\n",
        "dinner = int(input( \"Introduce las calorias de la cena: \"))"
      ],
      "execution_count": null,
      "outputs": [
        {
          "output_type": "stream",
          "text": [
            "Introduce las calorias de la cena: 400\n"
          ],
          "name": "stdout"
        }
      ]
    },
    {
      "cell_type": "code",
      "metadata": {
        "colab": {
          "base_uri": "https://localhost:8080/"
        },
        "id": "CvrJIk_qwpfn",
        "outputId": "16184820-d467-4986-cf4e-c3125b995fed"
      },
      "source": [
        "#Introducir calorias ingeridas en el tentempie\n",
        "snack = int(input( \"Introduce las calorias del tentempie: \"))"
      ],
      "execution_count": null,
      "outputs": [
        {
          "output_type": "stream",
          "text": [
            "Introduce las calorias del tentempie: 200\n"
          ],
          "name": "stdout"
        }
      ]
    },
    {
      "cell_type": "code",
      "metadata": {
        "colab": {
          "base_uri": "https://localhost:8080/"
        },
        "id": "dZvw8W_Zw1IH",
        "outputId": "e62014d6-320e-4838-e4fd-589e88d37221"
      },
      "source": [
        "#Total de calorias ingerias en el dia\n",
        "TotalCal_dia= breakfast + lunch + dinner + snack\n",
        "\n",
        "print(\" Total de calorias ingerias en \", date , \" son: \", TotalCal_dia, )"
      ],
      "execution_count": null,
      "outputs": [
        {
          "output_type": "stream",
          "text": [
            " Total de calorias ingerias en   20 de mayo 2021  son:  673\n"
          ],
          "name": "stdout"
        }
      ]
    },
    {
      "cell_type": "code",
      "metadata": {
        "colab": {
          "base_uri": "https://localhost:8080/"
        },
        "id": "i1Lh7kMAxDrX",
        "outputId": "e7ab8698-9646-4dfd-eb1d-1df9a2d109a3"
      },
      "source": [
        " print (\" Gracias. Ciao\")"
      ],
      "execution_count": null,
      "outputs": [
        {
          "output_type": "stream",
          "text": [
            " Gracias. Ciao\n"
          ],
          "name": "stdout"
        }
      ]
    },
    {
      "cell_type": "code",
      "metadata": {
        "id": "diDDGtSExneM"
      },
      "source": [
        ""
      ],
      "execution_count": null,
      "outputs": []
    },
    {
      "cell_type": "markdown",
      "metadata": {
        "id": "DYT0npJmELD7"
      },
      "source": [
        "# MÉTODO 2"
      ]
    },
    {
      "cell_type": "code",
      "metadata": {
        "id": "y_-GHRjkIrJV",
        "colab": {
          "base_uri": "https://localhost:8080/"
        },
        "outputId": "ca4f52a5-39ce-478e-a0bf-d525f23e023c"
      },
      "source": [
        " #Introducir fecha actual :\n",
        "from datetime import date\n",
        "\n",
        "#Día actual\n",
        "today = date.today()\n",
        "\n",
        "print(today)\n",
        "\n",
        " #Vamos a introducir las calorias consumidas en el día\n",
        " suma=0\n",
        " for n in range(0,1):\n",
        "   numero= int(input(\" Introduce calorias ingeridas en el desayuno: \"))\n",
        "   suma= suma + numero\n",
        "   numero2= int(input(\" Introduce calorias ingeridas en el almuerzo: \"))\n",
        "   suma= suma + numero2\n",
        "   numero3= int(input(\" Introduce calorias ingeridas en la cena: \"))\n",
        "   suma= suma + numero3\n",
        "   numero4= int(input(\" Introduce calorias ingeridas en el tentempie: \"))\n",
        "   suma= suma + numero4\n",
        "print(\"Calorias ingeridas en\", str(today) , \"son\", suma)\n",
        "\n"
      ],
      "execution_count": 12,
      "outputs": [
        {
          "output_type": "stream",
          "text": [
            "2021-05-20\n",
            " Introduce calorias ingeridas en el desayuno: 250\n",
            " Introduce calorias ingeridas en el almuerzo: 350\n",
            " Introduce calorias ingeridas en la cena: 450\n",
            " Introduce calorias ingeridas en el tentempie: 200\n",
            "Calorias ingeridas en 2021-05-20 son 1250\n"
          ],
          "name": "stdout"
        }
      ]
    },
    {
      "cell_type": "code",
      "metadata": {
        "id": "U1C4F5OKIbI8"
      },
      "source": [
        ""
      ],
      "execution_count": null,
      "outputs": []
    },
    {
      "cell_type": "markdown",
      "metadata": {
        "id": "ZIUHvFxR5RAx"
      },
      "source": [
        "#** Método 3**\n"
      ]
    },
    {
      "cell_type": "code",
      "metadata": {
        "colab": {
          "base_uri": "https://localhost:8080/"
        },
        "id": "41y9hpyO5Xo8",
        "outputId": "6539e4b3-04d7-45f5-c65e-a5344beb4080"
      },
      "source": [
        "#Enunciamos calorias ingeridas en el día de hoy\n",
        "\n",
        "a= int(input(\" Introduce calorias del desayuno: \"))\n",
        "b= int(input(\" Introduce calorias del almuerzo: \"))\n",
        "c= int(input(\" Introduce calorias del cena: \"))\n",
        "d= int(input(\" Introduce calorias del snack: \"))\n",
        "\n",
        "def suma(a,b,c,d):\n",
        "    dia=a+b+c+d\n",
        "    return (dia)\n",
        "\n",
        "print( \" Calorías ingeridas en el día de hoy :\", dia)\n",
        "\n",
        "\n",
        "\n"
      ],
      "execution_count": 31,
      "outputs": [
        {
          "output_type": "stream",
          "text": [
            " Introduce calorias del desayuno: 250\n",
            " Introduce calorias del almuerzo: 222\n",
            " Introduce calorias del cena: 33\n",
            " Introduce calorias del snack: 369\n",
            " Calorías ingeridas en el día de hoy : [265, 65, 236, 33]\n"
          ],
          "name": "stdout"
        }
      ]
    },
    {
      "cell_type": "code",
      "metadata": {
        "id": "3Q5TptkLBCzO"
      },
      "source": [
        "2"
      ],
      "execution_count": null,
      "outputs": []
    }
  ]
}